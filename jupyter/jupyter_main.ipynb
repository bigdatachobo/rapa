{
 "cells": [
  {
   "cell_type": "code",
   "execution_count": 18,
   "source": [
    "f = open(\"/Users/jangcoding/Documents/RAPA/새파일.txt\",'w')\n",
    "for j in range(1,10):\n",
    "    for i in range(2,10):\n",
    "        f.write(f'{i:>2d}x{j}={i*j:>2d}')\n",
    "    f.write(f'\\n')\n",
    "f.close()"
   ],
   "outputs": [],
   "metadata": {}
  },
  {
   "cell_type": "code",
   "execution_count": 22,
   "source": [
    "f = open(\"/Users/jangcoding/Documents/RAPA/새파일.txt\",'r')\n",
    "lines = f.readlines() \n",
    "print(lines)\n",
    "# for line in lines:\n",
    "#     print(line)\n",
    "f.close()"
   ],
   "outputs": [
    {
     "output_type": "stream",
     "name": "stdout",
     "text": [
      "[' 2x1= 2 3x1= 3 4x1= 4 5x1= 5 6x1= 6 7x1= 7 8x1= 8 9x1= 9\\n', ' 2x2= 4 3x2= 6 4x2= 8 5x2=10 6x2=12 7x2=14 8x2=16 9x2=18\\n', ' 2x3= 6 3x3= 9 4x3=12 5x3=15 6x3=18 7x3=21 8x3=24 9x3=27\\n', ' 2x4= 8 3x4=12 4x4=16 5x4=20 6x4=24 7x4=28 8x4=32 9x4=36\\n', ' 2x5=10 3x5=15 4x5=20 5x5=25 6x5=30 7x5=35 8x5=40 9x5=45\\n', ' 2x6=12 3x6=18 4x6=24 5x6=30 6x6=36 7x6=42 8x6=48 9x6=54\\n', ' 2x7=14 3x7=21 4x7=28 5x7=35 6x7=42 7x7=49 8x7=56 9x7=63\\n', ' 2x8=16 3x8=24 4x8=32 5x8=40 6x8=48 7x8=56 8x8=64 9x8=72\\n', ' 2x9=18 3x9=27 4x9=36 5x9=45 6x9=54 7x9=63 8x9=72 9x9=81\\n']\n"
     ]
    }
   ],
   "metadata": {}
  },
  {
   "cell_type": "code",
   "execution_count": 24,
   "source": [
    "f = open(\"/Users/jangcoding/Documents/RAPA/새파일.txt\",'a')\n",
    "for i in range(11,21):\n",
    "    f.write(f'{i}번째줄 추가 했습니다.\\n')\n",
    "f.close()"
   ],
   "outputs": [],
   "metadata": {}
  },
  {
   "cell_type": "code",
   "execution_count": 25,
   "source": [
    "with open(\"/Users/jangcoding/Documents/RAPA/새파일.txt\",'a') as f:\n",
    "    f.write('파이썬!!!')"
   ],
   "outputs": [],
   "metadata": {}
  },
  {
   "cell_type": "code",
   "execution_count": 27,
   "source": [
    "with open(\"/Users/jangcoding/Documents/RAPA/새파일.txt\",'r+') as f:\n",
    "    data = f.read()\n",
    "    print(data)\n",
    "    data = data.replace('줄',' 사람')\n",
    "    print(data)\n",
    "    f.write(data)"
   ],
   "outputs": [
    {
     "output_type": "stream",
     "name": "stdout",
     "text": [
      " 2x1= 2 3x1= 3 4x1= 4 5x1= 5 6x1= 6 7x1= 7 8x1= 8 9x1= 9\n",
      " 2x2= 4 3x2= 6 4x2= 8 5x2=10 6x2=12 7x2=14 8x2=16 9x2=18\n",
      " 2x3= 6 3x3= 9 4x3=12 5x3=15 6x3=18 7x3=21 8x3=24 9x3=27\n",
      " 2x4= 8 3x4=12 4x4=16 5x4=20 6x4=24 7x4=28 8x4=32 9x4=36\n",
      " 2x5=10 3x5=15 4x5=20 5x5=25 6x5=30 7x5=35 8x5=40 9x5=45\n",
      " 2x6=12 3x6=18 4x6=24 5x6=30 6x6=36 7x6=42 8x6=48 9x6=54\n",
      " 2x7=14 3x7=21 4x7=28 5x7=35 6x7=42 7x7=49 8x7=56 9x7=63\n",
      " 2x8=16 3x8=24 4x8=32 5x8=40 6x8=48 7x8=56 8x8=64 9x8=72\n",
      " 2x9=18 3x9=27 4x9=36 5x9=45 6x9=54 7x9=63 8x9=72 9x9=81\n",
      "11번째줄 추가 했습니다.12번째줄 추가 했습니다.13번째줄 추가 했습니다.14번째줄 추가 했습니다.15번째줄 추가 했습니다.16번째줄 추가 했습니다.17번째줄 추가 했습니다.18번째줄 추가 했습니다.19번째줄 추가 했습니다.20번째줄 추가 했습니다.11번째줄 추가 했습니다.\n",
      "12번째줄 추가 했습니다.\n",
      "13번째줄 추가 했습니다.\n",
      "14번째줄 추가 했습니다.\n",
      "15번째줄 추가 했습니다.\n",
      "16번째줄 추가 했습니다.\n",
      "17번째줄 추가 했습니다.\n",
      "18번째줄 추가 했습니다.\n",
      "19번째줄 추가 했습니다.\n",
      "20번째줄 추가 했습니다.\n",
      "파이썬!!! 2x1= 2 3x1= 3 4x1= 4 5x1= 5 6x1= 6 7x1= 7 8x1= 8 9x1= 9\n",
      " 2x2= 4 3x2= 6 4x2= 8 5x2=10 6x2=12 7x2=14 8x2=16 9x2=18\n",
      " 2x3= 6 3x3= 9 4x3=12 5x3=15 6x3=18 7x3=21 8x3=24 9x3=27\n",
      " 2x4= 8 3x4=12 4x4=16 5x4=20 6x4=24 7x4=28 8x4=32 9x4=36\n",
      " 2x5=10 3x5=15 4x5=20 5x5=25 6x5=30 7x5=35 8x5=40 9x5=45\n",
      " 2x6=12 3x6=18 4x6=24 5x6=30 6x6=36 7x6=42 8x6=48 9x6=54\n",
      " 2x7=14 3x7=21 4x7=28 5x7=35 6x7=42 7x7=49 8x7=56 9x7=63\n",
      " 2x8=16 3x8=24 4x8=32 5x8=40 6x8=48 7x8=56 8x8=64 9x8=72\n",
      " 2x9=18 3x9=27 4x9=36 5x9=45 6x9=54 7x9=63 8x9=72 9x9=81\n",
      "11번째사람 추가 했습니다.12번째사람 추가 했습니다.13번째사람 추가 했습니다.14번째사람 추가 했습니다.15번째사람 추가 했습니다.16번째사람 추가 했습니다.17번째사람 추가 했습니다.18번째사람 추가 했습니다.19번째사람 추가 했습니다.20번째사람 추가 했습니다.11번째사람 추가 했습니다.\n",
      "12번째사람 추가 했습니다.\n",
      "13번째사람 추가 했습니다.\n",
      "14번째사람 추가 했습니다.\n",
      "15번째사람 추가 했습니다.\n",
      "16번째사람 추가 했습니다.\n",
      "17번째사람 추가 했습니다.\n",
      "18번째사람 추가 했습니다.\n",
      "19번째사람 추가 했습니다.\n",
      "20번째사람 추가 했습니다.\n",
      "파이썬!!!\n",
      " 2x1= 2 3x1= 3 4x1= 4 5x1= 5 6x1= 6 7x1= 7 8x1= 8 9x1= 9\n",
      " 2x2= 4 3x2= 6 4x2= 8 5x2=10 6x2=12 7x2=14 8x2=16 9x2=18\n",
      " 2x3= 6 3x3= 9 4x3=12 5x3=15 6x3=18 7x3=21 8x3=24 9x3=27\n",
      " 2x4= 8 3x4=12 4x4=16 5x4=20 6x4=24 7x4=28 8x4=32 9x4=36\n",
      " 2x5=10 3x5=15 4x5=20 5x5=25 6x5=30 7x5=35 8x5=40 9x5=45\n",
      " 2x6=12 3x6=18 4x6=24 5x6=30 6x6=36 7x6=42 8x6=48 9x6=54\n",
      " 2x7=14 3x7=21 4x7=28 5x7=35 6x7=42 7x7=49 8x7=56 9x7=63\n",
      " 2x8=16 3x8=24 4x8=32 5x8=40 6x8=48 7x8=56 8x8=64 9x8=72\n",
      " 2x9=18 3x9=27 4x9=36 5x9=45 6x9=54 7x9=63 8x9=72 9x9=81\n",
      "11번째 사람 추가 했습니다.12번째 사람 추가 했습니다.13번째 사람 추가 했습니다.14번째 사람 추가 했습니다.15번째 사람 추가 했습니다.16번째 사람 추가 했습니다.17번째 사람 추가 했습니다.18번째 사람 추가 했습니다.19번째 사람 추가 했습니다.20번째 사람 추가 했습니다.11번째 사람 추가 했습니다.\n",
      "12번째 사람 추가 했습니다.\n",
      "13번째 사람 추가 했습니다.\n",
      "14번째 사람 추가 했습니다.\n",
      "15번째 사람 추가 했습니다.\n",
      "16번째 사람 추가 했습니다.\n",
      "17번째 사람 추가 했습니다.\n",
      "18번째 사람 추가 했습니다.\n",
      "19번째 사람 추가 했습니다.\n",
      "20번째 사람 추가 했습니다.\n",
      "파이썬!!! 2x1= 2 3x1= 3 4x1= 4 5x1= 5 6x1= 6 7x1= 7 8x1= 8 9x1= 9\n",
      " 2x2= 4 3x2= 6 4x2= 8 5x2=10 6x2=12 7x2=14 8x2=16 9x2=18\n",
      " 2x3= 6 3x3= 9 4x3=12 5x3=15 6x3=18 7x3=21 8x3=24 9x3=27\n",
      " 2x4= 8 3x4=12 4x4=16 5x4=20 6x4=24 7x4=28 8x4=32 9x4=36\n",
      " 2x5=10 3x5=15 4x5=20 5x5=25 6x5=30 7x5=35 8x5=40 9x5=45\n",
      " 2x6=12 3x6=18 4x6=24 5x6=30 6x6=36 7x6=42 8x6=48 9x6=54\n",
      " 2x7=14 3x7=21 4x7=28 5x7=35 6x7=42 7x7=49 8x7=56 9x7=63\n",
      " 2x8=16 3x8=24 4x8=32 5x8=40 6x8=48 7x8=56 8x8=64 9x8=72\n",
      " 2x9=18 3x9=27 4x9=36 5x9=45 6x9=54 7x9=63 8x9=72 9x9=81\n",
      "11번째사람 추가 했습니다.12번째사람 추가 했습니다.13번째사람 추가 했습니다.14번째사람 추가 했습니다.15번째사람 추가 했습니다.16번째사람 추가 했습니다.17번째사람 추가 했습니다.18번째사람 추가 했습니다.19번째사람 추가 했습니다.20번째사람 추가 했습니다.11번째사람 추가 했습니다.\n",
      "12번째사람 추가 했습니다.\n",
      "13번째사람 추가 했습니다.\n",
      "14번째사람 추가 했습니다.\n",
      "15번째사람 추가 했습니다.\n",
      "16번째사람 추가 했습니다.\n",
      "17번째사람 추가 했습니다.\n",
      "18번째사람 추가 했습니다.\n",
      "19번째사람 추가 했습니다.\n",
      "20번째사람 추가 했습니다.\n",
      "파이썬!!!\n"
     ]
    }
   ],
   "metadata": {}
  },
  {
   "cell_type": "code",
   "execution_count": 35,
   "source": [
    "import random\n",
    "with open(\"/Users/jangcoding/Documents/RAPA/sample.txt\",'w') as f:\n",
    "    for i in sorted(random.sample([i for i in range(1,101)],10)):\n",
    "        f.write(f'{i}\\n')"
   ],
   "outputs": [],
   "metadata": {}
  },
  {
   "cell_type": "code",
   "execution_count": 42,
   "source": [
    "dicText = {'13':'20','토트넘':'맨체스터유나이티드','해리 케인':'박지성','손흥민':'이승우'}\n",
    "\n",
    "with open(\"/Users/jangcoding/Documents/RAPA/article.txt\",'r+') as f:\n",
    "    data = f.read()\n",
    "    for i,j in dicText.items():\n",
    "        data = data.replace(i,j)\n",
    "    n = open(\"/Users/jangcoding/Documents/RAPA/result2.txt\",'w',encoding='utf-8')\n",
    "    n.write(data)\n",
    "    n.close()"
   ],
   "outputs": [],
   "metadata": {}
  },
  {
   "cell_type": "code",
   "execution_count": 49,
   "source": [
    "with open(\"/Users/jangcoding/Documents/RAPA/sample.txt\",'r+') as f:\n",
    "    num = list(map(int,f.read().replace('\\n',' ').split()))\n",
    "    print(f'{num}\\n총합은 {sum(num)} 입니다.\\n평균은 {sum(num)/len(num)} 입니다.')\n",
    "    g = open(\"/Users/jangcoding/Documents/RAPA/result.txt\",'w')\n",
    "    g.write(f'{num}\\n총합은 {sum(num)} 입니다.\\n평균은 {sum(num)/len(num)} 입니다.')\n",
    "    g.close()"
   ],
   "outputs": [
    {
     "output_type": "stream",
     "name": "stdout",
     "text": [
      "[7, 20, 29, 35, 37, 39, 42, 45, 50, 75]\n",
      "총합은 379 입니다.\n",
      "평균은 37.9 입니다.\n"
     ]
    }
   ],
   "metadata": {}
  },
  {
   "cell_type": "code",
   "execution_count": 113,
   "source": [
    "import random\n",
    "animal = ['호랑이','사자','늑대','치타','불곰']\n",
    "with open(\"/Users/jangcoding/Documents/RAPA/members.txt\",'r') as f:\n",
    "    names = list(map(lambda x: x,f.read().replace('\\n',' ').split()))\n",
    "    names = random.sample(names,len(names))\n",
    "    team = {animal[i] : names[i:i+4] for i in range(len(names)//4)}\n",
    "    print(team)\n",
    "    for i,j in team.items():\n",
    "        file = open(\"/Users/jangcoding/Documents/RAPA/teams.txt\",'a')\n",
    "        file.write(f'{i}팀: {j}\\n')\n",
    "        file.close()"
   ],
   "outputs": [
    {
     "output_type": "stream",
     "name": "stdout",
     "text": [
      "{'호랑이': ['장태성', '김현정', '이준혁', '김창선'], '사자': ['김현정', '이준혁', '김창선', '서현호'], '늑대': ['이준혁', '김창선', '서현호', '이상철'], '치타': ['김창선', '서현호', '이상철', '박창준'], '불곰': ['서현호', '이상철', '박창준', '정국명']}\n"
     ]
    }
   ],
   "metadata": {}
  },
  {
   "cell_type": "code",
   "execution_count": 138,
   "source": [
    "from collections import defaultdict\n",
    "word_count = defaultdict(int)\n",
    "with open(\"/Users/jangcoding/Documents/RAPA/fileIO/hamlet.txt\",'r') as f:\n",
    "    for i in list(map(lambda x: x.lower(), f.read().split())):\n",
    "        word_count[i] += 1\n",
    "    for i in sorted(word_count.items(),key=lambda x: x[1],reverse=True)[:10]:\n",
    "        print(i)"
   ],
   "outputs": [
    {
     "output_type": "stream",
     "name": "stdout",
     "text": [
      "('the', 1083)\n",
      "('and', 939)\n",
      "('to', 727)\n",
      "('of', 670)\n",
      "('a', 540)\n",
      "('i', 523)\n",
      "('my', 519)\n",
      "('you', 433)\n",
      "('in', 420)\n",
      "('ham.', 358)\n"
     ]
    }
   ],
   "metadata": {}
  },
  {
   "cell_type": "code",
   "execution_count": 2,
   "source": [
    "from collections import Counter\n",
    "with open(\"hamlet.txt\",'r') as f:\n",
    "    print(Counter(list(map(lambda x: x.lower(), f.read().split()))).most_common(n=10))"
   ],
   "outputs": [
    {
     "output_type": "stream",
     "name": "stdout",
     "text": [
      "[('the', 1083), ('and', 939), ('to', 727), ('of', 670), ('a', 540), ('i', 523), ('my', 519), ('you', 433), ('in', 420), ('ham.', 358)]\n"
     ]
    }
   ],
   "metadata": {}
  },
  {
   "cell_type": "code",
   "execution_count": null,
   "source": [],
   "outputs": [],
   "metadata": {}
  },
  {
   "cell_type": "markdown",
   "source": [],
   "metadata": {}
  },
  {
   "cell_type": "code",
   "execution_count": 1,
   "source": [
    "import numpy as np\n",
    "np.abs(-1)"
   ],
   "outputs": [
    {
     "output_type": "execute_result",
     "data": {
      "text/plain": [
       "1"
      ]
     },
     "metadata": {},
     "execution_count": 1
    }
   ],
   "metadata": {}
  },
  {
   "cell_type": "code",
   "execution_count": 7,
   "source": [
    "!pip3 install numpy"
   ],
   "outputs": [
    {
     "output_type": "stream",
     "name": "stdout",
     "text": [
      "Requirement already satisfied: numpy in /Library/Frameworks/Python.framework/Versions/3.8/lib/python3.8/site-packages (1.21.2)\n"
     ]
    }
   ],
   "metadata": {}
  },
  {
   "cell_type": "code",
   "execution_count": 5,
   "source": [
    "!pip3 install --upgrade pip"
   ],
   "outputs": [
    {
     "output_type": "stream",
     "name": "stdout",
     "text": [
      "Requirement already satisfied: pip in /Library/Frameworks/Python.framework/Versions/3.8/lib/python3.8/site-packages (21.1.1)\n",
      "Collecting pip\n",
      "  Downloading pip-21.2.4-py3-none-any.whl (1.6 MB)\n",
      "\u001b[K     |████████████████████████████████| 1.6 MB 6.6 MB/s \n",
      "\u001b[?25hInstalling collected packages: pip\n",
      "  Attempting uninstall: pip\n",
      "    Found existing installation: pip 21.1.1\n",
      "    Uninstalling pip-21.1.1:\n",
      "      Successfully uninstalled pip-21.1.1\n",
      "Successfully installed pip-21.2.4\n"
     ]
    }
   ],
   "metadata": {}
  },
  {
   "cell_type": "code",
   "execution_count": 3,
   "source": [
    "board = [[3,0,0,2],[0,0,1,0],[0,1,0,0],[2,0,0,3]]\n"
   ],
   "outputs": [
    {
     "output_type": "error",
     "ename": "ValueError",
     "evalue": "0 is not in list",
     "traceback": [
      "\u001b[0;31m---------------------------------------------------------------------------\u001b[0m",
      "\u001b[0;31mValueError\u001b[0m                                Traceback (most recent call last)",
      "\u001b[0;32m/var/folders/pp/7d9qyfc50qs4zwtdmst295_00000gn/T/ipykernel_3565/2920208265.py\u001b[0m in \u001b[0;36m<module>\u001b[0;34m\u001b[0m\n\u001b[1;32m      1\u001b[0m \u001b[0mboard\u001b[0m \u001b[0;34m=\u001b[0m \u001b[0;34m[\u001b[0m\u001b[0;34m[\u001b[0m\u001b[0;36m3\u001b[0m\u001b[0;34m,\u001b[0m\u001b[0;36m0\u001b[0m\u001b[0;34m,\u001b[0m\u001b[0;36m0\u001b[0m\u001b[0;34m,\u001b[0m\u001b[0;36m2\u001b[0m\u001b[0;34m]\u001b[0m\u001b[0;34m,\u001b[0m\u001b[0;34m[\u001b[0m\u001b[0;36m0\u001b[0m\u001b[0;34m,\u001b[0m\u001b[0;36m0\u001b[0m\u001b[0;34m,\u001b[0m\u001b[0;36m1\u001b[0m\u001b[0;34m,\u001b[0m\u001b[0;36m0\u001b[0m\u001b[0;34m]\u001b[0m\u001b[0;34m,\u001b[0m\u001b[0;34m[\u001b[0m\u001b[0;36m0\u001b[0m\u001b[0;34m,\u001b[0m\u001b[0;36m1\u001b[0m\u001b[0;34m,\u001b[0m\u001b[0;36m0\u001b[0m\u001b[0;34m,\u001b[0m\u001b[0;36m0\u001b[0m\u001b[0;34m]\u001b[0m\u001b[0;34m,\u001b[0m\u001b[0;34m[\u001b[0m\u001b[0;36m2\u001b[0m\u001b[0;34m,\u001b[0m\u001b[0;36m0\u001b[0m\u001b[0;34m,\u001b[0m\u001b[0;36m0\u001b[0m\u001b[0;34m,\u001b[0m\u001b[0;36m3\u001b[0m\u001b[0;34m]\u001b[0m\u001b[0;34m]\u001b[0m\u001b[0;34m\u001b[0m\u001b[0;34m\u001b[0m\u001b[0m\n\u001b[0;32m----> 2\u001b[0;31m \u001b[0mboard\u001b[0m\u001b[0;34m.\u001b[0m\u001b[0mindex\u001b[0m\u001b[0;34m(\u001b[0m\u001b[0;36m0\u001b[0m\u001b[0;34m)\u001b[0m\u001b[0;34m\u001b[0m\u001b[0;34m\u001b[0m\u001b[0m\n\u001b[0m",
      "\u001b[0;31mValueError\u001b[0m: 0 is not in list"
     ]
    }
   ],
   "metadata": {}
  }
 ],
 "metadata": {
  "orig_nbformat": 4,
  "language_info": {
   "name": "python",
   "version": "3.8.0",
   "mimetype": "text/x-python",
   "codemirror_mode": {
    "name": "ipython",
    "version": 3
   },
   "pygments_lexer": "ipython3",
   "nbconvert_exporter": "python",
   "file_extension": ".py"
  },
  "kernelspec": {
   "name": "python3",
   "display_name": "Python 3.8.0 64-bit"
  },
  "interpreter": {
   "hash": "767d51c1340bd893661ea55ea3124f6de3c7a262a8b4abca0554b478b1e2ff90"
  }
 },
 "nbformat": 4,
 "nbformat_minor": 2
}